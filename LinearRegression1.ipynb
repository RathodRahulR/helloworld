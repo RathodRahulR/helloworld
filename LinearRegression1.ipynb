{
  "nbformat": 4,
  "nbformat_minor": 0,
  "metadata": {
    "colab": {
      "name": "LinearRegression1.ipynb",
      "version": "0.3.2",
      "provenance": [],
      "include_colab_link": true
    },
    "kernelspec": {
      "name": "python3",
      "display_name": "Python 3"
    }
  },
  "cells": [
    {
      "cell_type": "markdown",
      "metadata": {
        "id": "view-in-github",
        "colab_type": "text"
      },
      "source": [
        "<a href=\"https://colab.research.google.com/github/akiwelekar/Hellow-World/blob/master/LinearRegression1.ipynb\" target=\"_parent\"><img src=\"https://colab.research.google.com/assets/colab-badge.svg\" alt=\"Open In Colab\"/></a>"
      ]
    },
    {
      "cell_type": "code",
      "metadata": {
        "id": "iNZC58uUvfZU",
        "colab_type": "code",
        "outputId": "d385af53-992e-493a-e94f-fb0703f78b6f",
        "colab": {
          "base_uri": "https://localhost:8080/",
          "height": 911
        }
      },
      "source": [
        "import pandas as pd \n",
        "import numpy as np\n",
        "import matplotlib.pyplot as plt\n",
        "from sklearn.linear_model import LinearRegression\n",
        "from sklearn.metrics import mean_squared_error, r2_score\n",
        "\n",
        "tymarks = pd.read_csv(\"tymarks.csv\")\n",
        "tymarks.head()\n",
        "df =pd.DataFrame(tymarks)\n",
        "mse_marks= np.array(df['mse'])\n",
        "ese_marks=np.array(df['ese'])\n",
        "x = np.reshape(mse_marks,(-1,1))\n",
        "y = np.reshape(ese_marks,(-1,1))\n",
        "print(x)\n",
        "print(y)\n",
        "regression_model = LinearRegression()\n",
        "regression_model.fit(x,y)\n",
        "\n",
        "y_predicted = regression_model.predict(x)\n",
        "print(y_predicted)\n",
        "\n",
        "# model evaluation\n",
        "rmse = mean_squared_error(y, y_predicted)\n",
        "r2 = r2_score(y, y_predicted)\n",
        "\n",
        "# printing values\n",
        "print('Slope:' ,regression_model.coef_)\n",
        "print('Intercept:', regression_model.intercept_)\n",
        "print('Root mean squared error: ', rmse)\n",
        "print('R2 score: ', r2)\n",
        "\n",
        "# plotting values\n",
        "\n",
        "# data points\n",
        "plt.scatter(x, y, s=10)\n",
        "plt.xlabel('x')\n",
        "plt.ylabel('y')\n",
        "\n",
        "# predicted values\n",
        "plt.plot(x, y_predicted, color='r')\n",
        "plt.show()"
      ],
      "execution_count": 30,
      "outputs": [
        {
          "output_type": "stream",
          "text": [
            "[[30]\n",
            " [32]\n",
            " [27]\n",
            " [22]\n",
            " [34]\n",
            " [31]\n",
            " [22]\n",
            " [24]\n",
            " [33]\n",
            " [32]]\n",
            "[[62]\n",
            " [68]\n",
            " [57]\n",
            " [60]\n",
            " [68]\n",
            " [67]\n",
            " [65]\n",
            " [45]\n",
            " [55]\n",
            " [58]]\n",
            "[[61.19410836]\n",
            " [62.26196739]\n",
            " [59.59231983]\n",
            " [56.92267228]\n",
            " [63.32982641]\n",
            " [61.72803787]\n",
            " [56.92267228]\n",
            " [57.9905313 ]\n",
            " [62.7958969 ]\n",
            " [62.26196739]]\n",
            "Slope: [[0.53392951]]\n",
            "Intercept: [45.17622304]\n",
            "Root mean squared error:  41.23061546554443\n",
            "R2 score:  0.11617115829486746\n"
          ],
          "name": "stdout"
        },
        {
          "output_type": "display_data",
          "data": {
            "image/png": "[encoded data removed]",
            "text/plain": [
              "<Figure size 432x288 with 1 Axes>"
            ]
          },
          "metadata": {
            "tags": []
          }
        }
      ]
    },
    {
      "cell_type": "code",
      "metadata": {
        "id": "AJvfNRSOx-L9",
        "colab_type": "code",
        "colab": {}
      },
      "source": [
        ""
      ],
      "execution_count": 0,
      "outputs": []
    }
  ]
}