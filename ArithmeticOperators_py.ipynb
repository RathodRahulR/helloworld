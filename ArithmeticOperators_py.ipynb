{
  "nbformat": 4,
  "nbformat_minor": 0,
  "metadata": {
    "colab": {
      "name": "ArithmeticOperators.py",
      "version": "0.3.2",
      "provenance": [],
      "include_colab_link": true
    },
    "kernelspec": {
      "name": "python3",
      "display_name": "Python 3"
    }
  },
  "cells": [
    {
      "cell_type": "markdown",
      "metadata": {
        "id": "view-in-github",
        "colab_type": "text"
      },
      "source": [
        "<a href=\"https://colab.research.google.com/github/akiwelekar/Hellow-World/blob/master/ArithmeticOperators_py.ipynb\" target=\"_parent\"><img src=\"https://colab.research.google.com/assets/colab-badge.svg\" alt=\"Open In Colab\"/></a>"
      ]
    },
    {
      "cell_type": "code",
      "metadata": {
        "id": "1kKw7Hi7oKuc",
        "colab_type": "code",
        "colab": {
          "base_uri": "https://localhost:8080/",
          "height": 109
        },
        "outputId": "34f1dd8c-7638-47cb-8463-ed605a80136d"
      },
      "source": [
        "a = int(input())\n",
        "b = int(input())\n",
        "print(a+b)\n",
        "print(a-b)\n",
        "print(a*b)"
      ],
      "execution_count": 3,
      "outputs": [
        {
          "output_type": "stream",
          "text": [
            "23\n",
            "12\n",
            "35\n",
            "11\n",
            "276\n"
          ],
          "name": "stdout"
        }
      ]
    }
  ]
}